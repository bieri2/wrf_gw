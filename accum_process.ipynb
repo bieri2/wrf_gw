{
 "cells": [
  {
   "cell_type": "code",
   "execution_count": 1,
   "metadata": {},
   "outputs": [],
   "source": [
    "import numpy as np\n",
    "from netCDF4 import Dataset\n",
    "import xarray as xr\n",
    "from wrf import (to_np, getvar, get_cartopy, cartopy_xlim,\n",
    "                 cartopy_ylim, latlon_coords)\n",
    "import pandas as pd\n",
    "import os"
   ]
  },
  {
   "cell_type": "code",
   "execution_count": 2,
   "metadata": {},
   "outputs": [],
   "source": [
    "path    = '/glade/campaign/univ/uiuc0017/bieri/wrfextracted/gw/RECH/all/'\n",
    "\n",
    "files   = sorted(os.listdir(path))\n",
    "all_acc = []"
   ]
  },
  {
   "cell_type": "code",
   "execution_count": 3,
   "metadata": {},
   "outputs": [
    {
     "name": "stdout",
     "output_type": "stream",
     "text": [
      "wrfout_RECH_201806.nc\n",
      "wrfout_RECH_201807.nc\n",
      "wrfout_RECH_201808.nc\n",
      "wrfout_RECH_201809.nc\n",
      "wrfout_RECH_201810.nc\n",
      "wrfout_RECH_201811.nc\n",
      "wrfout_RECH_201812.nc\n",
      "wrfout_RECH_201901.nc\n",
      "wrfout_RECH_201902.nc\n",
      "wrfout_RECH_201903.nc\n",
      "wrfout_RECH_201904.nc\n",
      "wrfout_RECH_201905.nc\n"
     ]
    }
   ],
   "source": [
    "for f in files:\n",
    "    print(f)\n",
    "    \n",
    "    data = xr.open_dataset(path+f)['RECH']\n",
    "    \n",
    "    rech1 = data[0,:,:]\n",
    "    rech2 = data[-1,:,:]\n",
    "    \n",
    "    rech = rech2-rech1\n",
    "    \n",
    "    all_acc.append(rech)\n",
    "    "
   ]
  },
  {
   "cell_type": "code",
   "execution_count": 4,
   "metadata": {},
   "outputs": [],
   "source": [
    "all_acc = xr.concat(all_acc, dim='time')"
   ]
  },
  {
   "cell_type": "code",
   "execution_count": 5,
   "metadata": {},
   "outputs": [],
   "source": [
    "all_acc.to_netcdf(path+'wrfout_RECH_mon_accum.nc')"
   ]
  },
  {
   "cell_type": "code",
   "execution_count": null,
   "metadata": {},
   "outputs": [],
   "source": []
  }
 ],
 "metadata": {
  "kernelspec": {
   "display_name": "my-kernel",
   "language": "python",
   "name": "my-kernel"
  },
  "language_info": {
   "codemirror_mode": {
    "name": "ipython",
    "version": 3
   },
   "file_extension": ".py",
   "mimetype": "text/x-python",
   "name": "python",
   "nbconvert_exporter": "python",
   "pygments_lexer": "ipython3",
   "version": "3.7.12"
  }
 },
 "nbformat": 4,
 "nbformat_minor": 4
}
